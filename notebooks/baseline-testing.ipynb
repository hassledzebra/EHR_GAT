{
 "cells": [
  {
   "cell_type": "code",
   "execution_count": 16,
   "metadata": {
    "executionInfo": {
     "elapsed": 2349,
     "status": "ok",
     "timestamp": 1736488793369,
     "user": {
      "displayName": "Alex Han",
      "userId": "14584877627806570126"
     },
     "user_tz": 360
    },
    "id": "62hkYuyFN1En"
   },
   "outputs": [
    {
     "data": {
      "text/html": [
       "<div id=\"pm_overallContainer64f8e537\" style=\"display:none\">\n",
       "    <table width=\"100%\" style=\"border:0px\">\n",
       "        <tr style=\"border:0px\">\n",
       "            <td width=\"20px\" style=\"border:0px\"><span id=\"twistie64f8e537\" style=\"color:blue;font-size:x-large;cursor:pointer\">&#9656;</span></td>\n",
       "            <td width=\"130px\" style=\"text-align:left;border:0px\"><span id=\"pm_overallJobName64f8e537\"></span>:</td>\n",
       "            <td width=\"calc(100% - 150px)\" style=\"border:0px\"><progress id=\"pm_overallProgress64f8e537\" max=\"100\" value=\"0\" style=\"width:100%\"></progress></td>\n",
       "        </tr>\n",
       "    </table>\n",
       "</div>\n",
       "<div id=\"pm_container64f8e537\" style=\"display:none\">\n",
       "    <ul class=\"nav nav-tabs\" id=\"progressMonitors64f8e537\">\n",
       "    </ul>\n",
       "    <div class=\"tab-content\" id=\"tabContent64f8e537\">\n",
       "    </div>\n",
       "</div>\n",
       "\n",
       "<script>\n",
       "$(\"#twistie64f8e537\").click(function(){\n",
       "    visible = $(\"#pm_container64f8e537\").is(':visible');\n",
       "    $(\"#pm_container64f8e537\").slideToggle(\"slow\");\n",
       "    $(this).html(visible?\"&#9656;\":\"&#9662;\")\n",
       "});\n",
       "</script>"
      ],
      "text/plain": [
       "<IPython.core.display.HTML object>"
      ]
     },
     "metadata": {},
     "output_type": "display_data"
    },
    {
     "name": "stdout",
     "output_type": "stream",
     "text": [
      "WARNING: pip is being invoked by an old script wrapper. This will fail in a future version of pip.\n",
      "Please see https://github.com/pypa/pip/issues/5599 for advice on fixing the underlying issue.\n",
      "To avoid this problem you can invoke Python with '-m pip' instead of running pip directly.\n",
      "Requirement already satisfied: duckdb in /opt/conda/lib/python3.7/site-packages (1.1.3)\n",
      "Spark Job Progress Monitor already enabled\n"
     ]
    }
   ],
   "source": [
    "import os\n",
    "from pyspark.sql import SparkSession\n",
    "from pyspark.sql.functions import *\n",
    "from pyspark.sql.types import *\n",
    "\n",
    "import pandas as pd\n",
    "import pandasql as ps\n",
    "import pixiedust\n",
    "\n",
    "import pyarrow.parquet as pq\n",
    "import pyarrow as pa\n",
    "!pip install duckdb\n",
    "\n",
    "import duckdb\n",
    "\n",
    "import numpy as np\n",
    "import matplotlib.pyplot as plt\n",
    "\n",
    "\n",
    "pixiedust.enableJobMonitor()\n",
    "\n",
    "con = duckdb.connect()"
   ]
  },
  {
   "cell_type": "code",
   "execution_count": 17,
   "metadata": {
    "executionInfo": {
     "elapsed": 3926,
     "status": "ok",
     "timestamp": 1736488800822,
     "user": {
      "displayName": "Alex Han",
      "userId": "14584877627806570126"
     },
     "user_tz": 360
    },
    "id": "y63euLC5N6Js"
   },
   "outputs": [
    {
     "data": {
      "text/html": [
       "<div id=\"pm_overallContainer57882f11\" style=\"display:none\">\n",
       "    <table width=\"100%\" style=\"border:0px\">\n",
       "        <tr style=\"border:0px\">\n",
       "            <td width=\"20px\" style=\"border:0px\"><span id=\"twistie57882f11\" style=\"color:blue;font-size:x-large;cursor:pointer\">&#9656;</span></td>\n",
       "            <td width=\"130px\" style=\"text-align:left;border:0px\"><span id=\"pm_overallJobName57882f11\"></span>:</td>\n",
       "            <td width=\"calc(100% - 150px)\" style=\"border:0px\"><progress id=\"pm_overallProgress57882f11\" max=\"100\" value=\"0\" style=\"width:100%\"></progress></td>\n",
       "        </tr>\n",
       "    </table>\n",
       "</div>\n",
       "<div id=\"pm_container57882f11\" style=\"display:none\">\n",
       "    <ul class=\"nav nav-tabs\" id=\"progressMonitors57882f11\">\n",
       "    </ul>\n",
       "    <div class=\"tab-content\" id=\"tabContent57882f11\">\n",
       "    </div>\n",
       "</div>\n",
       "\n",
       "<script>\n",
       "$(\"#twistie57882f11\").click(function(){\n",
       "    visible = $(\"#pm_container57882f11\").is(':visible');\n",
       "    $(\"#pm_container57882f11\").slideToggle(\"slow\");\n",
       "    $(this).html(visible?\"&#9656;\":\"&#9662;\")\n",
       "});\n",
       "</script>"
      ],
      "text/plain": [
       "<IPython.core.display.HTML object>"
      ]
     },
     "metadata": {},
     "output_type": "display_data"
    }
   ],
   "source": [
    "# Load datasets\n",
    "cohort_new = spark.read.parquet('file:/home/z_han/work/Oklahoma State/Zheng_Han/epilepsy/allcohort2024')\n",
    "cohort_demo = spark.read.parquet('file:/home/z_han/work/Oklahoma State/Zheng_Han/epilepsy/allcohort_new_demo')\n",
    "cohort_como = spark.read.parquet('file:/home/z_han/work/Oklahoma State/Zheng_Han/epilepsy/allcohort_new_como')\n"
   ]
  },
  {
   "cell_type": "code",
   "execution_count": 18,
   "metadata": {
    "colab": {
     "base_uri": "https://localhost:8080/"
    },
    "executionInfo": {
     "elapsed": 5,
     "status": "ok",
     "timestamp": 1736488800822,
     "user": {
      "displayName": "Alex Han",
      "userId": "14584877627806570126"
     },
     "user_tz": 360
    },
    "id": "VenhWdwMK1aq",
    "outputId": "ef4a3316-0813-4fe1-b81c-83935e9e99bc"
   },
   "outputs": [
    {
     "data": {
      "text/html": [
       "<div id=\"pm_overallContainer3e448d13\" style=\"display:none\">\n",
       "    <table width=\"100%\" style=\"border:0px\">\n",
       "        <tr style=\"border:0px\">\n",
       "            <td width=\"20px\" style=\"border:0px\"><span id=\"twistie3e448d13\" style=\"color:blue;font-size:x-large;cursor:pointer\">&#9656;</span></td>\n",
       "            <td width=\"130px\" style=\"text-align:left;border:0px\"><span id=\"pm_overallJobName3e448d13\"></span>:</td>\n",
       "            <td width=\"calc(100% - 150px)\" style=\"border:0px\"><progress id=\"pm_overallProgress3e448d13\" max=\"100\" value=\"0\" style=\"width:100%\"></progress></td>\n",
       "        </tr>\n",
       "    </table>\n",
       "</div>\n",
       "<div id=\"pm_container3e448d13\" style=\"display:none\">\n",
       "    <ul class=\"nav nav-tabs\" id=\"progressMonitors3e448d13\">\n",
       "    </ul>\n",
       "    <div class=\"tab-content\" id=\"tabContent3e448d13\">\n",
       "    </div>\n",
       "</div>\n",
       "\n",
       "<script>\n",
       "$(\"#twistie3e448d13\").click(function(){\n",
       "    visible = $(\"#pm_container3e448d13\").is(':visible');\n",
       "    $(\"#pm_container3e448d13\").slideToggle(\"slow\");\n",
       "    $(this).html(visible?\"&#9656;\":\"&#9662;\")\n",
       "});\n",
       "</script>"
      ],
      "text/plain": [
       "<IPython.core.display.HTML object>"
      ]
     },
     "metadata": {},
     "output_type": "display_data"
    },
    {
     "name": "stdout",
     "output_type": "stream",
     "text": [
      "root\n",
      " |-- personid: string (nullable = true)\n",
      " |-- date: string (nullable = true)\n",
      " |-- EPI: integer (nullable = true)\n",
      "\n"
     ]
    }
   ],
   "source": [
    "cohort_new.printSchema()"
   ]
  },
  {
   "cell_type": "code",
   "execution_count": 19,
   "metadata": {
    "executionInfo": {
     "elapsed": 4,
     "status": "ok",
     "timestamp": 1736488800823,
     "user": {
      "displayName": "Alex Han",
      "userId": "14584877627806570126"
     },
     "user_tz": 360
    },
    "id": "VXH9JgOwgasv"
   },
   "outputs": [
    {
     "data": {
      "text/html": [
       "<div id=\"pm_overallContaineracd664ab\" style=\"display:none\">\n",
       "    <table width=\"100%\" style=\"border:0px\">\n",
       "        <tr style=\"border:0px\">\n",
       "            <td width=\"20px\" style=\"border:0px\"><span id=\"twistieacd664ab\" style=\"color:blue;font-size:x-large;cursor:pointer\">&#9656;</span></td>\n",
       "            <td width=\"130px\" style=\"text-align:left;border:0px\"><span id=\"pm_overallJobNameacd664ab\"></span>:</td>\n",
       "            <td width=\"calc(100% - 150px)\" style=\"border:0px\"><progress id=\"pm_overallProgressacd664ab\" max=\"100\" value=\"0\" style=\"width:100%\"></progress></td>\n",
       "        </tr>\n",
       "    </table>\n",
       "</div>\n",
       "<div id=\"pm_containeracd664ab\" style=\"display:none\">\n",
       "    <ul class=\"nav nav-tabs\" id=\"progressMonitorsacd664ab\">\n",
       "    </ul>\n",
       "    <div class=\"tab-content\" id=\"tabContentacd664ab\">\n",
       "    </div>\n",
       "</div>\n",
       "\n",
       "<script>\n",
       "$(\"#twistieacd664ab\").click(function(){\n",
       "    visible = $(\"#pm_containeracd664ab\").is(':visible');\n",
       "    $(\"#pm_containeracd664ab\").slideToggle(\"slow\");\n",
       "    $(this).html(visible?\"&#9656;\":\"&#9662;\")\n",
       "});\n",
       "</script>"
      ],
      "text/plain": [
       "<IPython.core.display.HTML object>"
      ]
     },
     "metadata": {},
     "output_type": "display_data"
    }
   ],
   "source": [
    "# Preprocess comorbidity data\n",
    "cohort_como_reformat = cohort_como.withColumn(\n",
    "    'comorbidityid', expr(\"regexp_replace(comorbidityid, '([0-9a-zA-Z]+\\\\.[0-9a-zA-Z]).*', '$1')\").cast(\"string\"))\n"
   ]
  },
  {
   "cell_type": "code",
   "execution_count": 20,
   "metadata": {
    "executionInfo": {
     "elapsed": 4,
     "status": "ok",
     "timestamp": 1736488800823,
     "user": {
      "displayName": "Alex Han",
      "userId": "14584877627806570126"
     },
     "user_tz": 360
    },
    "id": "HDc_FyhOheMb"
   },
   "outputs": [
    {
     "data": {
      "text/html": [
       "<div id=\"pm_overallContainerd070f4c7\" style=\"display:none\">\n",
       "    <table width=\"100%\" style=\"border:0px\">\n",
       "        <tr style=\"border:0px\">\n",
       "            <td width=\"20px\" style=\"border:0px\"><span id=\"twistied070f4c7\" style=\"color:blue;font-size:x-large;cursor:pointer\">&#9656;</span></td>\n",
       "            <td width=\"130px\" style=\"text-align:left;border:0px\"><span id=\"pm_overallJobNamed070f4c7\"></span>:</td>\n",
       "            <td width=\"calc(100% - 150px)\" style=\"border:0px\"><progress id=\"pm_overallProgressd070f4c7\" max=\"100\" value=\"0\" style=\"width:100%\"></progress></td>\n",
       "        </tr>\n",
       "    </table>\n",
       "</div>\n",
       "<div id=\"pm_containerd070f4c7\" style=\"display:none\">\n",
       "    <ul class=\"nav nav-tabs\" id=\"progressMonitorsd070f4c7\">\n",
       "    </ul>\n",
       "    <div class=\"tab-content\" id=\"tabContentd070f4c7\">\n",
       "    </div>\n",
       "</div>\n",
       "\n",
       "<script>\n",
       "$(\"#twistied070f4c7\").click(function(){\n",
       "    visible = $(\"#pm_containerd070f4c7\").is(':visible');\n",
       "    $(\"#pm_containerd070f4c7\").slideToggle(\"slow\");\n",
       "    $(this).html(visible?\"&#9656;\":\"&#9662;\")\n",
       "});\n",
       "</script>"
      ],
      "text/plain": [
       "<IPython.core.display.HTML object>"
      ]
     },
     "metadata": {},
     "output_type": "display_data"
    }
   ],
   "source": [
    "def get_top_comorbidity(spark, como, topn):\n",
    "    top_como = como.groupBy('comorbidityid').count().orderBy(col('count').desc()) \\\n",
    "        .select(collect_list('comorbidityid')).collect()[0] \\\n",
    "        .__getitem__('collect_list(comorbidityid)')[0:topn]\n",
    "    return top_como"
   ]
  },
  {
   "cell_type": "code",
   "execution_count": 21,
   "metadata": {
    "executionInfo": {
     "elapsed": 186,
     "status": "ok",
     "timestamp": 1736488801005,
     "user": {
      "displayName": "Alex Han",
      "userId": "14584877627806570126"
     },
     "user_tz": 360
    },
    "id": "NDRPJFWAjEum"
   },
   "outputs": [
    {
     "data": {
      "text/html": [
       "<div id=\"pm_overallContainer78853603\" style=\"display:none\">\n",
       "    <table width=\"100%\" style=\"border:0px\">\n",
       "        <tr style=\"border:0px\">\n",
       "            <td width=\"20px\" style=\"border:0px\"><span id=\"twistie78853603\" style=\"color:blue;font-size:x-large;cursor:pointer\">&#9656;</span></td>\n",
       "            <td width=\"130px\" style=\"text-align:left;border:0px\"><span id=\"pm_overallJobName78853603\"></span>:</td>\n",
       "            <td width=\"calc(100% - 150px)\" style=\"border:0px\"><progress id=\"pm_overallProgress78853603\" max=\"100\" value=\"0\" style=\"width:100%\"></progress></td>\n",
       "        </tr>\n",
       "    </table>\n",
       "</div>\n",
       "<div id=\"pm_container78853603\" style=\"display:none\">\n",
       "    <ul class=\"nav nav-tabs\" id=\"progressMonitors78853603\">\n",
       "    </ul>\n",
       "    <div class=\"tab-content\" id=\"tabContent78853603\">\n",
       "    </div>\n",
       "</div>\n",
       "\n",
       "<script>\n",
       "$(\"#twistie78853603\").click(function(){\n",
       "    visible = $(\"#pm_container78853603\").is(':visible');\n",
       "    $(\"#pm_container78853603\").slideToggle(\"slow\");\n",
       "    $(this).html(visible?\"&#9656;\":\"&#9662;\")\n",
       "});\n",
       "</script>"
      ],
      "text/plain": [
       "<IPython.core.display.HTML object>"
      ]
     },
     "metadata": {},
     "output_type": "display_data"
    }
   ],
   "source": [
    "cohort_como_length = cohort_como_reformat.join(cohort_new.select('personid','date','EPI'), 'personid') \\\n",
    "    .withColumn('len_como', months_between(col('date'), col('effectivedate')) / 12)\n"
   ]
  },
  {
   "cell_type": "code",
   "execution_count": 22,
   "metadata": {
    "colab": {
     "base_uri": "https://localhost:8080/"
    },
    "executionInfo": {
     "elapsed": 4,
     "status": "ok",
     "timestamp": 1736488801005,
     "user": {
      "displayName": "Alex Han",
      "userId": "14584877627806570126"
     },
     "user_tz": 360
    },
    "id": "nKVok3FYLrhi",
    "outputId": "cddb8e7a-6ad7-4510-f5db-a985bbc00686"
   },
   "outputs": [
    {
     "data": {
      "text/html": [
       "<div id=\"pm_overallContainer22778d84\" style=\"display:none\">\n",
       "    <table width=\"100%\" style=\"border:0px\">\n",
       "        <tr style=\"border:0px\">\n",
       "            <td width=\"20px\" style=\"border:0px\"><span id=\"twistie22778d84\" style=\"color:blue;font-size:x-large;cursor:pointer\">&#9656;</span></td>\n",
       "            <td width=\"130px\" style=\"text-align:left;border:0px\"><span id=\"pm_overallJobName22778d84\"></span>:</td>\n",
       "            <td width=\"calc(100% - 150px)\" style=\"border:0px\"><progress id=\"pm_overallProgress22778d84\" max=\"100\" value=\"0\" style=\"width:100%\"></progress></td>\n",
       "        </tr>\n",
       "    </table>\n",
       "</div>\n",
       "<div id=\"pm_container22778d84\" style=\"display:none\">\n",
       "    <ul class=\"nav nav-tabs\" id=\"progressMonitors22778d84\">\n",
       "    </ul>\n",
       "    <div class=\"tab-content\" id=\"tabContent22778d84\">\n",
       "    </div>\n",
       "</div>\n",
       "\n",
       "<script>\n",
       "$(\"#twistie22778d84\").click(function(){\n",
       "    visible = $(\"#pm_container22778d84\").is(':visible');\n",
       "    $(\"#pm_container22778d84\").slideToggle(\"slow\");\n",
       "    $(this).html(visible?\"&#9656;\":\"&#9662;\")\n",
       "});\n",
       "</script>"
      ],
      "text/plain": [
       "<IPython.core.display.HTML object>"
      ]
     },
     "metadata": {},
     "output_type": "display_data"
    },
    {
     "name": "stdout",
     "output_type": "stream",
     "text": [
      "root\n",
      " |-- personid: string (nullable = true)\n",
      " |-- encounterid: string (nullable = true)\n",
      " |-- comorbidityid: string (nullable = true)\n",
      " |-- effectivedate: string (nullable = true)\n",
      " |-- date: string (nullable = true)\n",
      " |-- EPI: integer (nullable = true)\n",
      " |-- len_como: double (nullable = true)\n",
      "\n"
     ]
    }
   ],
   "source": [
    "cohort_como_length.printSchema()"
   ]
  },
  {
   "cell_type": "code",
   "execution_count": 23,
   "metadata": {
    "executionInfo": {
     "elapsed": 3,
     "status": "ok",
     "timestamp": 1736488801005,
     "user": {
      "displayName": "Alex Han",
      "userId": "14584877627806570126"
     },
     "user_tz": 360
    },
    "id": "flkNDYAljHZV"
   },
   "outputs": [
    {
     "data": {
      "text/html": [
       "<div id=\"pm_overallContainerddc7f95f\" style=\"display:none\">\n",
       "    <table width=\"100%\" style=\"border:0px\">\n",
       "        <tr style=\"border:0px\">\n",
       "            <td width=\"20px\" style=\"border:0px\"><span id=\"twistieddc7f95f\" style=\"color:blue;font-size:x-large;cursor:pointer\">&#9656;</span></td>\n",
       "            <td width=\"130px\" style=\"text-align:left;border:0px\"><span id=\"pm_overallJobNameddc7f95f\"></span>:</td>\n",
       "            <td width=\"calc(100% - 150px)\" style=\"border:0px\"><progress id=\"pm_overallProgressddc7f95f\" max=\"100\" value=\"0\" style=\"width:100%\"></progress></td>\n",
       "        </tr>\n",
       "    </table>\n",
       "</div>\n",
       "<div id=\"pm_containerddc7f95f\" style=\"display:none\">\n",
       "    <ul class=\"nav nav-tabs\" id=\"progressMonitorsddc7f95f\">\n",
       "    </ul>\n",
       "    <div class=\"tab-content\" id=\"tabContentddc7f95f\">\n",
       "    </div>\n",
       "</div>\n",
       "\n",
       "<script>\n",
       "$(\"#twistieddc7f95f\").click(function(){\n",
       "    visible = $(\"#pm_containerddc7f95f\").is(':visible');\n",
       "    $(\"#pm_containerddc7f95f\").slideToggle(\"slow\");\n",
       "    $(this).html(visible?\"&#9656;\":\"&#9662;\")\n",
       "});\n",
       "</script>"
      ],
      "text/plain": [
       "<IPython.core.display.HTML object>"
      ]
     },
     "metadata": {},
     "output_type": "display_data"
    }
   ],
   "source": [
    "# Preprocess demographic data\n",
    "cohort_demo_processed = cohort_demo.withColumn('age_at_diagnosis', months_between(col('date'), col('birthdate.value')) / 12).drop('birthdate')\n"
   ]
  },
  {
   "cell_type": "code",
   "execution_count": 24,
   "metadata": {
    "colab": {
     "base_uri": "https://localhost:8080/"
    },
    "executionInfo": {
     "elapsed": 580,
     "status": "ok",
     "timestamp": 1736488801583,
     "user": {
      "displayName": "Alex Han",
      "userId": "14584877627806570126"
     },
     "user_tz": 360
    },
    "id": "rNoJ-9k5LjDr",
    "outputId": "0057eb84-d2bd-4dbb-970a-62c2cd4cf045"
   },
   "outputs": [
    {
     "data": {
      "text/html": [
       "<div id=\"pm_overallContainerf8c5ff57\" style=\"display:none\">\n",
       "    <table width=\"100%\" style=\"border:0px\">\n",
       "        <tr style=\"border:0px\">\n",
       "            <td width=\"20px\" style=\"border:0px\"><span id=\"twistief8c5ff57\" style=\"color:blue;font-size:x-large;cursor:pointer\">&#9656;</span></td>\n",
       "            <td width=\"130px\" style=\"text-align:left;border:0px\"><span id=\"pm_overallJobNamef8c5ff57\"></span>:</td>\n",
       "            <td width=\"calc(100% - 150px)\" style=\"border:0px\"><progress id=\"pm_overallProgressf8c5ff57\" max=\"100\" value=\"0\" style=\"width:100%\"></progress></td>\n",
       "        </tr>\n",
       "    </table>\n",
       "</div>\n",
       "<div id=\"pm_containerf8c5ff57\" style=\"display:none\">\n",
       "    <ul class=\"nav nav-tabs\" id=\"progressMonitorsf8c5ff57\">\n",
       "    </ul>\n",
       "    <div class=\"tab-content\" id=\"tabContentf8c5ff57\">\n",
       "    </div>\n",
       "</div>\n",
       "\n",
       "<script>\n",
       "$(\"#twistief8c5ff57\").click(function(){\n",
       "    visible = $(\"#pm_containerf8c5ff57\").is(':visible');\n",
       "    $(\"#pm_containerf8c5ff57\").slideToggle(\"slow\");\n",
       "    $(this).html(visible?\"&#9656;\":\"&#9662;\")\n",
       "});\n",
       "</script>"
      ],
      "text/plain": [
       "<IPython.core.display.HTML object>"
      ]
     },
     "metadata": {},
     "output_type": "display_data"
    },
    {
     "name": "stdout",
     "output_type": "stream",
     "text": [
      "root\n",
      " |-- personid: string (nullable = true)\n",
      " |-- gender: string (nullable = true)\n",
      " |-- date: string (nullable = true)\n",
      " |-- race: string (nullable = true)\n",
      " |-- age_at_diagnosis: double (nullable = true)\n",
      "\n"
     ]
    }
   ],
   "source": [
    "cohort_demo_processed.printSchema()"
   ]
  },
  {
   "cell_type": "code",
   "execution_count": 25,
   "metadata": {
    "executionInfo": {
     "elapsed": 4,
     "status": "ok",
     "timestamp": 1736488801583,
     "user": {
      "displayName": "Alex Han",
      "userId": "14584877627806570126"
     },
     "user_tz": 360
    },
    "id": "8nw4550mjJJJ"
   },
   "outputs": [
    {
     "data": {
      "text/html": [
       "<div id=\"pm_overallContainer397c1013\" style=\"display:none\">\n",
       "    <table width=\"100%\" style=\"border:0px\">\n",
       "        <tr style=\"border:0px\">\n",
       "            <td width=\"20px\" style=\"border:0px\"><span id=\"twistie397c1013\" style=\"color:blue;font-size:x-large;cursor:pointer\">&#9656;</span></td>\n",
       "            <td width=\"130px\" style=\"text-align:left;border:0px\"><span id=\"pm_overallJobName397c1013\"></span>:</td>\n",
       "            <td width=\"calc(100% - 150px)\" style=\"border:0px\"><progress id=\"pm_overallProgress397c1013\" max=\"100\" value=\"0\" style=\"width:100%\"></progress></td>\n",
       "        </tr>\n",
       "    </table>\n",
       "</div>\n",
       "<div id=\"pm_container397c1013\" style=\"display:none\">\n",
       "    <ul class=\"nav nav-tabs\" id=\"progressMonitors397c1013\">\n",
       "    </ul>\n",
       "    <div class=\"tab-content\" id=\"tabContent397c1013\">\n",
       "    </div>\n",
       "</div>\n",
       "\n",
       "<script>\n",
       "$(\"#twistie397c1013\").click(function(){\n",
       "    visible = $(\"#pm_container397c1013\").is(':visible');\n",
       "    $(\"#pm_container397c1013\").slideToggle(\"slow\");\n",
       "    $(this).html(visible?\"&#9656;\":\"&#9662;\")\n",
       "});\n",
       "</script>"
      ],
      "text/plain": [
       "<IPython.core.display.HTML object>"
      ]
     },
     "metadata": {},
     "output_type": "display_data"
    }
   ],
   "source": [
    "# Encode gender and race\n",
    "df = cohort_demo_processed.withColumn(\"gender\",\n",
    "    when(lower(col(\"gender\")).isin(\"male\"), 1).when(lower(col(\"gender\")).isin(\"female\"), 2)\n",
    "    .when(col(\"gender\").isNull(), 0).otherwise(3))"
   ]
  },
  {
   "cell_type": "code",
   "execution_count": 26,
   "metadata": {
    "executionInfo": {
     "elapsed": 3,
     "status": "ok",
     "timestamp": 1736488801583,
     "user": {
      "displayName": "Alex Han",
      "userId": "14584877627806570126"
     },
     "user_tz": 360
    },
    "id": "NptG0T9EjKMv"
   },
   "outputs": [
    {
     "data": {
      "text/html": [
       "<div id=\"pm_overallContainerb0822498\" style=\"display:none\">\n",
       "    <table width=\"100%\" style=\"border:0px\">\n",
       "        <tr style=\"border:0px\">\n",
       "            <td width=\"20px\" style=\"border:0px\"><span id=\"twistieb0822498\" style=\"color:blue;font-size:x-large;cursor:pointer\">&#9656;</span></td>\n",
       "            <td width=\"130px\" style=\"text-align:left;border:0px\"><span id=\"pm_overallJobNameb0822498\"></span>:</td>\n",
       "            <td width=\"calc(100% - 150px)\" style=\"border:0px\"><progress id=\"pm_overallProgressb0822498\" max=\"100\" value=\"0\" style=\"width:100%\"></progress></td>\n",
       "        </tr>\n",
       "    </table>\n",
       "</div>\n",
       "<div id=\"pm_containerb0822498\" style=\"display:none\">\n",
       "    <ul class=\"nav nav-tabs\" id=\"progressMonitorsb0822498\">\n",
       "    </ul>\n",
       "    <div class=\"tab-content\" id=\"tabContentb0822498\">\n",
       "    </div>\n",
       "</div>\n",
       "\n",
       "<script>\n",
       "$(\"#twistieb0822498\").click(function(){\n",
       "    visible = $(\"#pm_containerb0822498\").is(':visible');\n",
       "    $(\"#pm_containerb0822498\").slideToggle(\"slow\");\n",
       "    $(this).html(visible?\"&#9656;\":\"&#9662;\")\n",
       "});\n",
       "</script>"
      ],
      "text/plain": [
       "<IPython.core.display.HTML object>"
      ]
     },
     "metadata": {},
     "output_type": "display_data"
    }
   ],
   "source": [
    "df = df.withColumn(\"race\",\n",
    "    when(lower(col(\"race\")).like(\"%white%\") | lower(col(\"race\")).like(\"%caucasian%\"), 1)\n",
    "    .when(lower(col(\"race\")).like(\"%black%\") | lower(col(\"race\")).like(\"%african%\"), 2)\n",
    "    .when(lower(col(\"race\")).like(\"%hispanic%\"), 3)\n",
    "    .when(lower(col(\"race\")).like(\"%asian%\") | lower(col(\"race\")).like(\"%chinese%\") | lower(col(\"race\")).like(\"%korean%\") | lower(col(\"race\")).like(\"%japanese%\"), 4)\n",
    "    .when(lower(col(\"race\")).like(\"%indian american%\") | lower(col(\"race\")).like(\"%native american%\"), 5)\n",
    "    .when(col(\"race\").isNull(), 0).otherwise(6))"
   ]
  },
  {
   "cell_type": "code",
   "execution_count": 27,
   "metadata": {
    "executionInfo": {
     "elapsed": 3,
     "status": "ok",
     "timestamp": 1736488801583,
     "user": {
      "displayName": "Alex Han",
      "userId": "14584877627806570126"
     },
     "user_tz": 360
    },
    "id": "sjBymv7YjJkK"
   },
   "outputs": [
    {
     "data": {
      "text/html": [
       "<div id=\"pm_overallContainer95fa6ae7\" style=\"display:none\">\n",
       "    <table width=\"100%\" style=\"border:0px\">\n",
       "        <tr style=\"border:0px\">\n",
       "            <td width=\"20px\" style=\"border:0px\"><span id=\"twistie95fa6ae7\" style=\"color:blue;font-size:x-large;cursor:pointer\">&#9656;</span></td>\n",
       "            <td width=\"130px\" style=\"text-align:left;border:0px\"><span id=\"pm_overallJobName95fa6ae7\"></span>:</td>\n",
       "            <td width=\"calc(100% - 150px)\" style=\"border:0px\"><progress id=\"pm_overallProgress95fa6ae7\" max=\"100\" value=\"0\" style=\"width:100%\"></progress></td>\n",
       "        </tr>\n",
       "    </table>\n",
       "</div>\n",
       "<div id=\"pm_container95fa6ae7\" style=\"display:none\">\n",
       "    <ul class=\"nav nav-tabs\" id=\"progressMonitors95fa6ae7\">\n",
       "    </ul>\n",
       "    <div class=\"tab-content\" id=\"tabContent95fa6ae7\">\n",
       "    </div>\n",
       "</div>\n",
       "\n",
       "<script>\n",
       "$(\"#twistie95fa6ae7\").click(function(){\n",
       "    visible = $(\"#pm_container95fa6ae7\").is(':visible');\n",
       "    $(\"#pm_container95fa6ae7\").slideToggle(\"slow\");\n",
       "    $(this).html(visible?\"&#9656;\":\"&#9662;\")\n",
       "});\n",
       "</script>"
      ],
      "text/plain": [
       "<IPython.core.display.HTML object>"
      ]
     },
     "metadata": {},
     "output_type": "display_data"
    }
   ],
   "source": [
    "cohort_demo_processed = df"
   ]
  },
  {
   "cell_type": "code",
   "execution_count": 28,
   "metadata": {
    "executionInfo": {
     "elapsed": 4,
     "status": "ok",
     "timestamp": 1736488801584,
     "user": {
      "displayName": "Alex Han",
      "userId": "14584877627806570126"
     },
     "user_tz": 360
    },
    "id": "ktqPvgPtuQjp"
   },
   "outputs": [
    {
     "data": {
      "text/html": [
       "<div id=\"pm_overallContainer046f96af\" style=\"display:none\">\n",
       "    <table width=\"100%\" style=\"border:0px\">\n",
       "        <tr style=\"border:0px\">\n",
       "            <td width=\"20px\" style=\"border:0px\"><span id=\"twistie046f96af\" style=\"color:blue;font-size:x-large;cursor:pointer\">&#9656;</span></td>\n",
       "            <td width=\"130px\" style=\"text-align:left;border:0px\"><span id=\"pm_overallJobName046f96af\"></span>:</td>\n",
       "            <td width=\"calc(100% - 150px)\" style=\"border:0px\"><progress id=\"pm_overallProgress046f96af\" max=\"100\" value=\"0\" style=\"width:100%\"></progress></td>\n",
       "        </tr>\n",
       "    </table>\n",
       "</div>\n",
       "<div id=\"pm_container046f96af\" style=\"display:none\">\n",
       "    <ul class=\"nav nav-tabs\" id=\"progressMonitors046f96af\">\n",
       "    </ul>\n",
       "    <div class=\"tab-content\" id=\"tabContent046f96af\">\n",
       "    </div>\n",
       "</div>\n",
       "\n",
       "<script>\n",
       "$(\"#twistie046f96af\").click(function(){\n",
       "    visible = $(\"#pm_container046f96af\").is(':visible');\n",
       "    $(\"#pm_container046f96af\").slideToggle(\"slow\");\n",
       "    $(this).html(visible?\"&#9656;\":\"&#9662;\")\n",
       "});\n",
       "</script>"
      ],
      "text/plain": [
       "<IPython.core.display.HTML object>"
      ]
     },
     "metadata": {},
     "output_type": "display_data"
    }
   ],
   "source": [
    "def create_comorbidity_features(cohort_como_length_filter, top_comorbidity):\n",
    "    # Trim whitespaces in comorbidityid to ensure consistent formatting\n",
    "    cohort_como_length_filter = cohort_como_length_filter.withColumn(\"comorbidityid\", trim(col(\"comorbidityid\")))\n",
    "\n",
    "    # Create comorbidity columns based on the presence of each comorbidity in the data\n",
    "    for comorbidity in top_comorbidity:\n",
    "        # Use backticks for the comorbidity value in case of special characters\n",
    "        cohort_como_length_filter = cohort_como_length_filter.withColumn(\n",
    "            f\"has_{comorbidity.replace('.', '_')}\",  # Replace '.' with '_' for safe column naming\n",
    "            when(col(\"comorbidityid\") == comorbidity, col(\"len_como\")).otherwise(None)\n",
    "        )\n",
    "\n",
    "    # Define the new list of comorbidity columns to select\n",
    "    comorbidity_cols = [f\"has_{comorbidity.replace('.', '_')}\" for comorbidity in top_comorbidity]\n",
    "\n",
    "    # Select personid and the newly created comorbidity columns\n",
    "    cohort_como_features = cohort_como_length_filter.select(\n",
    "        \"personid\",\n",
    "        *[col(f\"has_{comorbidity.replace('.', '_')}\") for comorbidity in top_comorbidity]\n",
    "    )\n",
    "\n",
    "    # Group by personid to aggregate comorbidity values using max\n",
    "    cohort_como_features = cohort_como_features.groupBy(\"personid\").agg(\n",
    "        *[max(col(f\"has_{comorbidity.replace('.', '_')}\")).alias(f\"has_{comorbidity.replace('.', '_')}\") for comorbidity in top_comorbidity]\n",
    "    )\n",
    "\n",
    "    return cohort_como_features\n"
   ]
  },
  {
   "cell_type": "code",
   "execution_count": 29,
   "metadata": {},
   "outputs": [
    {
     "data": {
      "text/html": [
       "<div id=\"pm_overallContainerd223c011\" style=\"display:none\">\n",
       "    <table width=\"100%\" style=\"border:0px\">\n",
       "        <tr style=\"border:0px\">\n",
       "            <td width=\"20px\" style=\"border:0px\"><span id=\"twistied223c011\" style=\"color:blue;font-size:x-large;cursor:pointer\">&#9656;</span></td>\n",
       "            <td width=\"130px\" style=\"text-align:left;border:0px\"><span id=\"pm_overallJobNamed223c011\"></span>:</td>\n",
       "            <td width=\"calc(100% - 150px)\" style=\"border:0px\"><progress id=\"pm_overallProgressd223c011\" max=\"100\" value=\"0\" style=\"width:100%\"></progress></td>\n",
       "        </tr>\n",
       "    </table>\n",
       "</div>\n",
       "<div id=\"pm_containerd223c011\" style=\"display:none\">\n",
       "    <ul class=\"nav nav-tabs\" id=\"progressMonitorsd223c011\">\n",
       "    </ul>\n",
       "    <div class=\"tab-content\" id=\"tabContentd223c011\">\n",
       "    </div>\n",
       "</div>\n",
       "\n",
       "<script>\n",
       "$(\"#twistied223c011\").click(function(){\n",
       "    visible = $(\"#pm_containerd223c011\").is(':visible');\n",
       "    $(\"#pm_containerd223c011\").slideToggle(\"slow\");\n",
       "    $(this).html(visible?\"&#9656;\":\"&#9662;\")\n",
       "});\n",
       "</script>"
      ],
      "text/plain": [
       "<IPython.core.display.HTML object>"
      ]
     },
     "metadata": {},
     "output_type": "display_data"
    },
    {
     "data": {
      "text/html": [
       "\n",
       "            <div>\n",
       "                <p><b>SparkSession - hive</b></p>\n",
       "                \n",
       "        <div>\n",
       "            <p><b>SparkContext</b></p>\n",
       "\n",
       "            <p><a href=\"http://localhost:4040\">Spark UI</a></p>\n",
       "\n",
       "            <dl>\n",
       "              <dt>Version</dt>\n",
       "                <dd><code>v3.4.4</code></dd>\n",
       "              <dt>Master</dt>\n",
       "                <dd><code>local[10]</code></dd>\n",
       "              <dt>AppName</dt>\n",
       "                <dd><code>pyspark-shell</code></dd>\n",
       "            </dl>\n",
       "        </div>\n",
       "        \n",
       "            </div>\n",
       "        "
      ],
      "text/plain": [
       "<pyspark.sql.session.SparkSession at 0x7fa54834fa10>"
      ]
     },
     "execution_count": 29,
     "metadata": {},
     "output_type": "execute_result"
    }
   ],
   "source": [
    "spark"
   ]
  },
  {
   "cell_type": "code",
   "execution_count": 36,
   "metadata": {
    "executionInfo": {
     "elapsed": 202,
     "status": "ok",
     "timestamp": 1736488851983,
     "user": {
      "displayName": "Alex Han",
      "userId": "14584877627806570126"
     },
     "user_tz": 360
    },
    "id": "qw1MO-kfyrC0"
   },
   "outputs": [
    {
     "data": {
      "text/html": [
       "<div id=\"pm_overallContainera46ad34d\" style=\"display:none\">\n",
       "    <table width=\"100%\" style=\"border:0px\">\n",
       "        <tr style=\"border:0px\">\n",
       "            <td width=\"20px\" style=\"border:0px\"><span id=\"twistiea46ad34d\" style=\"color:blue;font-size:x-large;cursor:pointer\">&#9656;</span></td>\n",
       "            <td width=\"130px\" style=\"text-align:left;border:0px\"><span id=\"pm_overallJobNamea46ad34d\"></span>:</td>\n",
       "            <td width=\"calc(100% - 150px)\" style=\"border:0px\"><progress id=\"pm_overallProgressa46ad34d\" max=\"100\" value=\"0\" style=\"width:100%\"></progress></td>\n",
       "        </tr>\n",
       "    </table>\n",
       "</div>\n",
       "<div id=\"pm_containera46ad34d\" style=\"display:none\">\n",
       "    <ul class=\"nav nav-tabs\" id=\"progressMonitorsa46ad34d\">\n",
       "    </ul>\n",
       "    <div class=\"tab-content\" id=\"tabContenta46ad34d\">\n",
       "    </div>\n",
       "</div>\n",
       "\n",
       "<script>\n",
       "$(\"#twistiea46ad34d\").click(function(){\n",
       "    visible = $(\"#pm_containera46ad34d\").is(':visible');\n",
       "    $(\"#pm_containera46ad34d\").slideToggle(\"slow\");\n",
       "    $(this).html(visible?\"&#9656;\":\"&#9662;\")\n",
       "});\n",
       "</script>"
      ],
      "text/plain": [
       "<IPython.core.display.HTML object>"
      ]
     },
     "metadata": {},
     "output_type": "display_data"
    }
   ],
   "source": [
    "from pyspark.ml.feature import VectorAssembler, StandardScaler\n",
    "from pyspark.ml.classification import DecisionTreeClassifier, RandomForestClassifier, LogisticRegression, GBTClassifier\n",
    "from pyspark.ml.evaluation import BinaryClassificationEvaluator, MulticlassClassificationEvaluator\n",
    "from pyspark.sql.functions import col, when, lit\n",
    "\n",
    "def train_baseline_models_sparkml(cohort_demo_processed, cohort_como_length, topn):\n",
    "    print('-----preparing data--------')\n",
    "\n",
    "    top_comorbidity = get_top_comorbidity(spark, cohort_como_reformat, topn)\n",
    "    cohort_como_length_filter = cohort_como_length.filter(col('comorbidityid').isin(top_comorbidity))\n",
    "    cohort_comorbidity_features = create_comorbidity_features(cohort_como_length_filter, top_comorbidity)\n",
    "    cohort_demo_processed = cohort_demo_processed.join(cohort_comorbidity_features, 'personid')\n",
    "\n",
    "    x_person = cohort_demo_processed.drop('date')\n",
    "    x_person = x_person.join(cohort_new.select('personid', 'EPI'), 'personid', 'inner')\n",
    "\n",
    "    # Ensure label column is present\n",
    "    data = x_person.withColumnRenamed(\"EPI\", \"label\")\n",
    "\n",
    "    # Drop unnecessary columns to prepare feature set\n",
    "    feature_columns = [col for col in data.columns if col not in [\"personid\", \"date\", \"label\"]]\n",
    "\n",
    "    # Handle missing values by replacing NaNs with a unique value\n",
    "    data = data.fillna({col: -1 for col in feature_columns})\n",
    "\n",
    "    # Assemble features after handling NaN values\n",
    "    assembler = VectorAssembler(inputCols=feature_columns, outputCol=\"features_assembled\")\n",
    "    data = assembler.transform(data)\n",
    "\n",
    "    # Ensure label column is properly set\n",
    "    data = data.select(\"features_assembled\", \"label\")\n",
    "    \n",
    "    # Split data into training and testing sets\n",
    "    train_data, test_data = data.randomSplit([0.8, 0.2], seed=42)\n",
    "\n",
    "    # Compute weights for imbalanced classes\n",
    "    positive_count = train_data.filter(col(\"label\") == 1).count()\n",
    "    negative_count = train_data.filter(col(\"label\") == 0).count()\n",
    "    total_count = positive_count + negative_count\n",
    "\n",
    "    weight_positive = total_count / (2 * positive_count)\n",
    "    weight_negative = total_count / (2 * negative_count)\n",
    "\n",
    "    train_data = train_data.withColumn(\"classWeight\", when(col(\"label\") == 1, weight_positive).otherwise(weight_negative))\n",
    "\n",
    "    \n",
    "\n",
    "    # Scale the features\n",
    "    scaler = StandardScaler(inputCol=\"features_assembled\", outputCol=\"scaledFeatures\", withMean=True, withStd=True)\n",
    "    scaler_model = scaler.fit(train_data)\n",
    "    train_data = scaler_model.transform(train_data)\n",
    "    test_data = scaler_model.transform(test_data)\n",
    "\n",
    "    def evaluate_model(model, train_data, test_data):\n",
    "        model = model.fit(train_data)\n",
    "        train_predictions = model.transform(train_data)\n",
    "        test_predictions = model.transform(test_data)\n",
    "\n",
    "        # Evaluate AUC\n",
    "        evaluator = BinaryClassificationEvaluator(labelCol=\"label\", rawPredictionCol=\"prediction\")\n",
    "        train_auc = evaluator.evaluate(train_predictions, {evaluator.metricName: \"areaUnderROC\"})\n",
    "        test_auc = evaluator.evaluate(test_predictions, {evaluator.metricName: \"areaUnderROC\"})\n",
    "        print(f\"Training AUC: {train_auc}\")\n",
    "        print(f\"Test AUC: {test_auc}\")\n",
    "        \n",
    "        evaluator.setMetricName(\"areaUnderPR\")\n",
    "        train_prauc = evaluator.evaluate(train_predictions)\n",
    "        test_prauc = evaluator.evaluate(test_predictions)\n",
    "        print(f\"Training PRAUC: {train_prauc}\")\n",
    "        print(f\"Test PRAUC: {test_prauc}\")\n",
    "\n",
    "        # Evaluate Accuracy\n",
    "        accuracy_evaluator = MulticlassClassificationEvaluator(labelCol=\"label\", predictionCol=\"prediction\", metricName=\"accuracy\")\n",
    "        train_accuracy = accuracy_evaluator.evaluate(train_predictions)\n",
    "        test_accuracy = accuracy_evaluator.evaluate(test_predictions)\n",
    "        print(f\"Training Accuracy: {train_accuracy}\")\n",
    "        print(f\"Test Accuracy: {test_accuracy}\")\n",
    "\n",
    "        # Compute confusion matrix elements\n",
    "        tp = test_predictions.filter((col(\"prediction\") == 1) & (col(\"label\") == 1)).count()\n",
    "        tn = test_predictions.filter((col(\"prediction\") == 0) & (col(\"label\") == 0)).count()\n",
    "        fp = test_predictions.filter((col(\"prediction\") == 1) & (col(\"label\") == 0)).count()\n",
    "        fn = test_predictions.filter((col(\"prediction\") == 0) & (col(\"label\") == 1)).count()\n",
    "\n",
    "        print(f\"Confusion Matrix: TP={tp}, TN={tn}, FP={fp}, FN={fn}\")\n",
    "\n",
    "        # Calculate sensitivity and specificity\n",
    "        sensitivity = tp / (tp + fn) if (tp + fn) > 0 else 0\n",
    "        specificity = tn / (tn + fp) if (tn + fp) > 0 else 0\n",
    "\n",
    "        print(f\"Sensitivity (Recall): {sensitivity}\")\n",
    "        print(f\"Specificity: {specificity}\")\n",
    "\n",
    "    print('---------training decision tree-----------')\n",
    "    dt_classifier = DecisionTreeClassifier(featuresCol=\"scaledFeatures\", labelCol=\"label\", weightCol=\"classWeight\", seed=45)\n",
    "    evaluate_model(dt_classifier, train_data, test_data)\n",
    "\n",
    "    print('---------training random forest-----------')\n",
    "    rf_classifier = RandomForestClassifier(featuresCol=\"scaledFeatures\", labelCol=\"label\", weightCol=\"classWeight\", seed=42)\n",
    "    evaluate_model(rf_classifier, train_data, test_data)\n",
    "\n",
    "    print('---------training logistic regression-----------')\n",
    "    lr_classifier = LogisticRegression(featuresCol=\"scaledFeatures\", labelCol=\"label\", weightCol=\"classWeight\", maxIter=100, regParam=0.01)\n",
    "    evaluate_model(lr_classifier, train_data, test_data)\n",
    "    \n",
    "    print('---------training gradient boosting tree-----------')\n",
    "    gbt_classifier = GBTClassifier(featuresCol=\"scaledFeatures\", labelCol=\"label\", maxIter=100)\n",
    "    evaluate_model(gbt_classifier, train_data, test_data)\n",
    "\n",
    "\n",
    "    print('---------training multilayer perceptron-----------')\n",
    "    from pyspark.ml.classification import MultilayerPerceptronClassifier\n",
    "    mlp_classifier = MultilayerPerceptronClassifier(featuresCol=\"scaledFeatures\", labelCol=\"label\", maxIter=100, layers=[len(feature_columns), 64, 32, 2], blockSize=128, seed=123)\n",
    "    evaluate_model(mlp_classifier, train_data, test_data)\n",
    "\n",
    "    print('---------training support vector machine-----------')\n",
    "    from pyspark.ml.classification import LinearSVC\n",
    "    svm_classifier = LinearSVC(featuresCol=\"scaledFeatures\", labelCol=\"label\", weightCol=\"classWeight\", maxIter=100, regParam=0.01)\n",
    "    evaluate_model(svm_classifier, train_data, test_data)\n",
    "\n",
    "\n",
    "    print('---completed------')\n"
   ]
  },
  {
   "cell_type": "code",
   "execution_count": 35,
   "metadata": {
    "colab": {
     "base_uri": "https://localhost:8080/",
     "height": 543
    },
    "executionInfo": {
     "elapsed": 313500,
     "status": "error",
     "timestamp": 1736487745801,
     "user": {
      "displayName": "Alex Han",
      "userId": "14584877627806570126"
     },
     "user_tz": 360
    },
    "id": "d7OC693q34DT",
    "outputId": "1f115a63-091e-48d6-ed6c-5463cbad6719"
   },
   "outputs": [
    {
     "data": {
      "text/html": [
       "<div id=\"pm_overallContainerb040ed8d\" style=\"display:none\">\n",
       "    <table width=\"100%\" style=\"border:0px\">\n",
       "        <tr style=\"border:0px\">\n",
       "            <td width=\"20px\" style=\"border:0px\"><span id=\"twistieb040ed8d\" style=\"color:blue;font-size:x-large;cursor:pointer\">&#9656;</span></td>\n",
       "            <td width=\"130px\" style=\"text-align:left;border:0px\"><span id=\"pm_overallJobNameb040ed8d\"></span>:</td>\n",
       "            <td width=\"calc(100% - 150px)\" style=\"border:0px\"><progress id=\"pm_overallProgressb040ed8d\" max=\"100\" value=\"0\" style=\"width:100%\"></progress></td>\n",
       "        </tr>\n",
       "    </table>\n",
       "</div>\n",
       "<div id=\"pm_containerb040ed8d\" style=\"display:none\">\n",
       "    <ul class=\"nav nav-tabs\" id=\"progressMonitorsb040ed8d\">\n",
       "    </ul>\n",
       "    <div class=\"tab-content\" id=\"tabContentb040ed8d\">\n",
       "    </div>\n",
       "</div>\n",
       "\n",
       "<script>\n",
       "$(\"#twistieb040ed8d\").click(function(){\n",
       "    visible = $(\"#pm_containerb040ed8d\").is(':visible');\n",
       "    $(\"#pm_containerb040ed8d\").slideToggle(\"slow\");\n",
       "    $(this).html(visible?\"&#9656;\":\"&#9662;\")\n",
       "});\n",
       "</script>"
      ],
      "text/plain": [
       "<IPython.core.display.HTML object>"
      ]
     },
     "metadata": {},
     "output_type": "display_data"
    },
    {
     "name": "stdout",
     "output_type": "stream",
     "text": [
      "-----preparing data--------\n",
      "---------training decision tree-----------\n",
      "Training AUC: 0.7064949123481028\n",
      "Test AUC: 0.7028155360525713\n",
      "Training Accuracy: 0.6984619730841231\n",
      "Test Accuracy: 0.6978489244622311\n",
      "Confusion Matrix: TP=4240, TN=103175, FP=44761, FN=1747\n",
      "Sensitivity (Recall): 0.7082011023885084\n",
      "Specificity: 0.6974299697166342\n",
      "---------training random forest-----------\n",
      "Training AUC: 0.7200667076129935\n",
      "Test AUC: 0.7171251821760254\n",
      "Training Accuracy: 0.6747315799642486\n",
      "Test Accuracy: 0.6732911910500705\n",
      "Confusion Matrix: TP=4578, TN=99057, FP=48879, FN=1409\n",
      "Sensitivity (Recall): 0.7646567563053283\n",
      "Specificity: 0.6695936080467229\n",
      "---------training logistic regression-----------\n",
      "Training AUC: 0.6530001360885425\n",
      "Test AUC: 0.650051585265624\n",
      "Training Accuracy: 0.6468918802634762\n",
      "Test Accuracy: 0.6444845799523138\n",
      "Confusion Matrix: TP=3928, TN=95273, FP=52663, FN=2059\n",
      "Sensitivity (Recall): 0.6560881910806748\n",
      "Specificity: 0.6440149794505732\n",
      "---------training gradient boosting tree-----------\n",
      "Training AUC: 0.5192752230598194\n",
      "Test AUC: 0.5190141049939083\n",
      "Training Accuracy: 0.9620566990139937\n",
      "Test Accuracy: 0.9614547533507013\n",
      "Confusion Matrix: TP=235, TN=147755, FP=181, FN=5752\n",
      "Sensitivity (Recall): 0.03925171204275931\n",
      "Specificity: 0.9987764979450573\n",
      "---------training multilayer perceptron-----------\n",
      "Training AUC: 0.5033258076162849\n",
      "Test AUC: 0.5038102566466294\n",
      "Training Accuracy: 0.9617969245956043\n",
      "Test Accuracy: 0.9611883864009927\n",
      "Confusion Matrix: TP=47, TN=147902, FP=34, FN=5940\n",
      "Sensitivity (Recall): 0.007850342408551862\n",
      "Specificity: 0.9997701708847069\n",
      "---------training support vector machine-----------\n",
      "Training AUC: 0.6537003856579995\n",
      "Test AUC: 0.6516641838420117\n",
      "Training Accuracy: 0.6073298599328808\n",
      "Test Accuracy: 0.6052246902672115\n",
      "Confusion Matrix: TP=4203, TN=88955, FP=58981, FN=1784\n",
      "Sensitivity (Recall): 0.7020210455987974\n",
      "Specificity: 0.6013073220852261\n",
      "---------training k-nearest neighbors-----------\n"
     ]
    },
    {
     "ename": "ImportError",
     "evalue": "cannot import name 'KNNClassifier' from 'pyspark.ml.classification' (/usr/local/spark-3.4.4-bin-hadoop3/python/pyspark/ml/classification.py)",
     "output_type": "error",
     "traceback": [
      "\u001b[0;31m---------------------------------------------------------------------------\u001b[0m",
      "\u001b[0;31mImportError\u001b[0m                               Traceback (most recent call last)",
      "\u001b[0;32m<ipython-input-35-efbb95fbbb81>\u001b[0m in \u001b[0;36m<module>\u001b[0;34m\u001b[0m\n\u001b[0;32m----> 1\u001b[0;31m \u001b[0mtrain_baseline_models_sparkml\u001b[0m\u001b[0;34m(\u001b[0m\u001b[0mcohort_demo_processed\u001b[0m\u001b[0;34m,\u001b[0m\u001b[0mcohort_como_length\u001b[0m\u001b[0;34m,\u001b[0m \u001b[0;36m20\u001b[0m\u001b[0;34m)\u001b[0m\u001b[0;34m\u001b[0m\u001b[0;34m\u001b[0m\u001b[0m\n\u001b[0m",
      "\u001b[0;32m<ipython-input-34-58e0a18011ad>\u001b[0m in \u001b[0;36mtrain_baseline_models_sparkml\u001b[0;34m(cohort_demo_processed, cohort_como_length, topn)\u001b[0m\n\u001b[1;32m    114\u001b[0m \u001b[0;34m\u001b[0m\u001b[0m\n\u001b[1;32m    115\u001b[0m     \u001b[0mprint\u001b[0m\u001b[0;34m(\u001b[0m\u001b[0;34m'---------training k-nearest neighbors-----------'\u001b[0m\u001b[0;34m)\u001b[0m\u001b[0;34m\u001b[0m\u001b[0;34m\u001b[0m\u001b[0m\n\u001b[0;32m--> 116\u001b[0;31m     \u001b[0;32mfrom\u001b[0m \u001b[0mpyspark\u001b[0m\u001b[0;34m.\u001b[0m\u001b[0mml\u001b[0m\u001b[0;34m.\u001b[0m\u001b[0mclassification\u001b[0m \u001b[0;32mimport\u001b[0m \u001b[0mKNNClassifier\u001b[0m\u001b[0;34m\u001b[0m\u001b[0;34m\u001b[0m\u001b[0m\n\u001b[0m\u001b[1;32m    117\u001b[0m     \u001b[0mknn_classifier\u001b[0m \u001b[0;34m=\u001b[0m \u001b[0mKNNClassifier\u001b[0m\u001b[0;34m(\u001b[0m\u001b[0mfeaturesCol\u001b[0m\u001b[0;34m=\u001b[0m\u001b[0;34m\"scaledFeatures\"\u001b[0m\u001b[0;34m,\u001b[0m \u001b[0mlabelCol\u001b[0m\u001b[0;34m=\u001b[0m\u001b[0;34m\"label\"\u001b[0m\u001b[0;34m,\u001b[0m \u001b[0mweightCol\u001b[0m\u001b[0;34m=\u001b[0m\u001b[0;34m\"classWeight\"\u001b[0m\u001b[0;34m,\u001b[0m \u001b[0mk\u001b[0m\u001b[0;34m=\u001b[0m\u001b[0;36m5\u001b[0m\u001b[0;34m)\u001b[0m\u001b[0;34m\u001b[0m\u001b[0;34m\u001b[0m\u001b[0m\n\u001b[1;32m    118\u001b[0m     \u001b[0mevaluate_model\u001b[0m\u001b[0;34m(\u001b[0m\u001b[0mknn_classifier\u001b[0m\u001b[0;34m,\u001b[0m \u001b[0mtrain_data\u001b[0m\u001b[0;34m,\u001b[0m \u001b[0mtest_data\u001b[0m\u001b[0;34m)\u001b[0m\u001b[0;34m\u001b[0m\u001b[0;34m\u001b[0m\u001b[0m\n",
      "\u001b[0;31mImportError\u001b[0m: cannot import name 'KNNClassifier' from 'pyspark.ml.classification' (/usr/local/spark-3.4.4-bin-hadoop3/python/pyspark/ml/classification.py)"
     ]
    }
   ],
   "source": [
    "train_baseline_models_sparkml(cohort_demo_processed,cohort_como_length, 20)"
   ]
  },
  {
   "cell_type": "code",
   "execution_count": 37,
   "metadata": {},
   "outputs": [
    {
     "data": {
      "text/html": [
       "<div id=\"pm_overallContainer4c0af375\" style=\"display:none\">\n",
       "    <table width=\"100%\" style=\"border:0px\">\n",
       "        <tr style=\"border:0px\">\n",
       "            <td width=\"20px\" style=\"border:0px\"><span id=\"twistie4c0af375\" style=\"color:blue;font-size:x-large;cursor:pointer\">&#9656;</span></td>\n",
       "            <td width=\"130px\" style=\"text-align:left;border:0px\"><span id=\"pm_overallJobName4c0af375\"></span>:</td>\n",
       "            <td width=\"calc(100% - 150px)\" style=\"border:0px\"><progress id=\"pm_overallProgress4c0af375\" max=\"100\" value=\"0\" style=\"width:100%\"></progress></td>\n",
       "        </tr>\n",
       "    </table>\n",
       "</div>\n",
       "<div id=\"pm_container4c0af375\" style=\"display:none\">\n",
       "    <ul class=\"nav nav-tabs\" id=\"progressMonitors4c0af375\">\n",
       "    </ul>\n",
       "    <div class=\"tab-content\" id=\"tabContent4c0af375\">\n",
       "    </div>\n",
       "</div>\n",
       "\n",
       "<script>\n",
       "$(\"#twistie4c0af375\").click(function(){\n",
       "    visible = $(\"#pm_container4c0af375\").is(':visible');\n",
       "    $(\"#pm_container4c0af375\").slideToggle(\"slow\");\n",
       "    $(this).html(visible?\"&#9656;\":\"&#9662;\")\n",
       "});\n",
       "</script>"
      ],
      "text/plain": [
       "<IPython.core.display.HTML object>"
      ]
     },
     "metadata": {},
     "output_type": "display_data"
    },
    {
     "name": "stdout",
     "output_type": "stream",
     "text": [
      "-----preparing data--------\n",
      "---------training decision tree-----------\n",
      "Training AUC: 0.6864270161095266\n",
      "Test AUC: 0.6874686752847758\n",
      "Training Accuracy: 0.8053803867527448\n",
      "Test Accuracy: 0.806543406832469\n",
      "Confusion Matrix: TP=3927, TN=157347, FP=35590, FN=3093\n",
      "Sensitivity (Recall): 0.5594017094017094\n",
      "Specificity: 0.8155356411678424\n",
      "---------training random forest-----------\n",
      "Training AUC: 0.7125517985509491\n",
      "Test AUC: 0.7121705851992164\n",
      "Training Accuracy: 0.7782025933304374\n",
      "Test Accuracy: 0.7787174242462129\n",
      "Confusion Matrix: TP=4497, TN=151213, FP=41724, FN=2523\n",
      "Sensitivity (Recall): 0.6405982905982905\n",
      "Specificity: 0.783742879800142\n",
      "---------training logistic regression-----------\n",
      "Training AUC: 0.6713523829293934\n",
      "Test AUC: 0.6686864807308268\n",
      "Training Accuracy: 0.6861828013361094\n",
      "Test Accuracy: 0.687517816330511\n",
      "Confusion Matrix: TP=4552, TN=132922, FP=60015, FN=2468\n",
      "Sensitivity (Recall): 0.6484330484330484\n",
      "Specificity: 0.6889399130286052\n",
      "---------training gradient boosting tree-----------\n",
      "Training AUC: 0.5317184382475754\n",
      "Test AUC: 0.5299854212630144\n",
      "Training Accuracy: 0.965120604344852\n",
      "Test Accuracy: 0.9659376766004691\n",
      "Confusion Matrix: TP=429, TN=192717, FP=220, FN=6591\n",
      "Sensitivity (Recall): 0.06111111111111111\n",
      "Specificity: 0.9988597314149178\n",
      "---------training multilayer perceptron-----------\n",
      "Training AUC: 0.5219301472995245\n",
      "Test AUC: 0.5230287713892465\n",
      "Training Accuracy: 0.9647523753888249\n",
      "Test Accuracy: 0.9657576378921469\n",
      "Confusion Matrix: TP=329, TN=192781, FP=156, FN=6691\n",
      "Sensitivity (Recall): 0.046866096866096864\n",
      "Specificity: 0.9991914459123963\n",
      "---------training support vector machine-----------\n",
      "Training AUC: 0.667010466011691\n",
      "Test AUC: 0.6644780302419843\n",
      "Training Accuracy: 0.6613654179336239\n",
      "Test Accuracy: 0.6635026530704101\n",
      "Confusion Matrix: TP=4672, TN=128000, FP=64937, FN=2348\n",
      "Sensitivity (Recall): 0.6655270655270655\n",
      "Specificity: 0.663428994956903\n",
      "---completed------\n"
     ]
    }
   ],
   "source": [
    "train_baseline_models_sparkml(cohort_demo_processed,cohort_como_length, 50)"
   ]
  },
  {
   "cell_type": "code",
   "execution_count": 38,
   "metadata": {
    "colab": {
     "background_save": true,
     "base_uri": "https://localhost:8080/"
    },
    "id": "oLdK9ugOzowJ"
   },
   "outputs": [
    {
     "data": {
      "text/html": [
       "<div id=\"pm_overallContainere7eb6843\" style=\"display:none\">\n",
       "    <table width=\"100%\" style=\"border:0px\">\n",
       "        <tr style=\"border:0px\">\n",
       "            <td width=\"20px\" style=\"border:0px\"><span id=\"twistiee7eb6843\" style=\"color:blue;font-size:x-large;cursor:pointer\">&#9656;</span></td>\n",
       "            <td width=\"130px\" style=\"text-align:left;border:0px\"><span id=\"pm_overallJobNamee7eb6843\"></span>:</td>\n",
       "            <td width=\"calc(100% - 150px)\" style=\"border:0px\"><progress id=\"pm_overallProgresse7eb6843\" max=\"100\" value=\"0\" style=\"width:100%\"></progress></td>\n",
       "        </tr>\n",
       "    </table>\n",
       "</div>\n",
       "<div id=\"pm_containere7eb6843\" style=\"display:none\">\n",
       "    <ul class=\"nav nav-tabs\" id=\"progressMonitorse7eb6843\">\n",
       "    </ul>\n",
       "    <div class=\"tab-content\" id=\"tabContente7eb6843\">\n",
       "    </div>\n",
       "</div>\n",
       "\n",
       "<script>\n",
       "$(\"#twistiee7eb6843\").click(function(){\n",
       "    visible = $(\"#pm_containere7eb6843\").is(':visible');\n",
       "    $(\"#pm_containere7eb6843\").slideToggle(\"slow\");\n",
       "    $(this).html(visible?\"&#9656;\":\"&#9662;\")\n",
       "});\n",
       "</script>"
      ],
      "text/plain": [
       "<IPython.core.display.HTML object>"
      ]
     },
     "metadata": {},
     "output_type": "display_data"
    },
    {
     "name": "stdout",
     "output_type": "stream",
     "text": [
      "-----preparing data--------\n",
      "---------training decision tree-----------\n",
      "Training AUC: 0.676246145545819\n",
      "Test AUC: 0.6774451359168702\n",
      "Training Accuracy: 0.8199171914972312\n",
      "Test Accuracy: 0.820475177791498\n",
      "Confusion Matrix: TP=4008, TN=175393, FP=35608, FN=3646\n",
      "Sensitivity (Recall): 0.5236477658740528\n",
      "Specificity: 0.8312425059596874\n",
      "---------training random forest-----------\n",
      "Training AUC: 0.7038232011624732\n",
      "Test AUC: 0.709746037201272\n",
      "Training Accuracy: 0.7873303219074951\n",
      "Test Accuracy: 0.7890146577942421\n",
      "Confusion Matrix: TP=4780, TN=167742, FP=43259, FN=2874\n",
      "Sensitivity (Recall): 0.6245100600992944\n",
      "Specificity: 0.7949820143032498\n",
      "---------training logistic regression-----------\n",
      "Training AUC: 0.680175248451147\n",
      "Test AUC: 0.6867466121492901\n",
      "Training Accuracy: 0.7057227364933898\n",
      "Test Accuracy: 0.7073243237062953\n",
      "Confusion Matrix: TP=5087, TN=149573, FP=61428, FN=2567\n",
      "Sensitivity (Recall): 0.6646198066370526\n",
      "Specificity: 0.7088734176615277\n",
      "---------training gradient boosting tree-----------\n",
      "Training AUC: 0.5343376127467806\n",
      "Test AUC: 0.5298254883397167\n",
      "Training Accuracy: 0.9658320747673793\n",
      "Test Accuracy: 0.9659372070156182\n",
      "Confusion Matrix: TP=466, TN=210741, FP=260, FN=7188\n",
      "Sensitivity (Recall): 0.060883198327671806\n",
      "Specificity: 0.9987677783517613\n",
      "---------training multilayer perceptron-----------\n",
      "Training AUC: 0.5234223057081352\n",
      "Test AUC: 0.5237011763456684\n",
      "Training Accuracy: 0.9651140357786614\n",
      "Test Accuracy: 0.9657817109144543\n",
      "Confusion Matrix: TP=370, TN=210803, FP=198, FN=7284\n",
      "Sensitivity (Recall): 0.04834073686961066\n",
      "Specificity: 0.9990616158217259\n",
      "---------training support vector machine-----------\n",
      "Training AUC: 0.6740438216870012\n",
      "Test AUC: 0.6798076573363064\n",
      "Training Accuracy: 0.6849943550034989\n",
      "Test Accuracy: 0.6862774690722828\n",
      "Confusion Matrix: TP=5150, TN=144908, FP=66093, FN=2504\n",
      "Sensitivity (Recall): 0.6728507969689052\n",
      "Specificity: 0.6867645177037076\n",
      "---completed------\n"
     ]
    }
   ],
   "source": [
    "train_baseline_models_sparkml(cohort_demo_processed,cohort_como_length, 100)"
   ]
  },
  {
   "cell_type": "code",
   "execution_count": 40,
   "metadata": {
    "id": "cfAwfWpPzque"
   },
   "outputs": [
    {
     "data": {
      "text/html": [
       "<div id=\"pm_overallContainerd6f10879\" style=\"display:none\">\n",
       "    <table width=\"100%\" style=\"border:0px\">\n",
       "        <tr style=\"border:0px\">\n",
       "            <td width=\"20px\" style=\"border:0px\"><span id=\"twistied6f10879\" style=\"color:blue;font-size:x-large;cursor:pointer\">&#9656;</span></td>\n",
       "            <td width=\"130px\" style=\"text-align:left;border:0px\"><span id=\"pm_overallJobNamed6f10879\"></span>:</td>\n",
       "            <td width=\"calc(100% - 150px)\" style=\"border:0px\"><progress id=\"pm_overallProgressd6f10879\" max=\"100\" value=\"0\" style=\"width:100%\"></progress></td>\n",
       "        </tr>\n",
       "    </table>\n",
       "</div>\n",
       "<div id=\"pm_containerd6f10879\" style=\"display:none\">\n",
       "    <ul class=\"nav nav-tabs\" id=\"progressMonitorsd6f10879\">\n",
       "    </ul>\n",
       "    <div class=\"tab-content\" id=\"tabContentd6f10879\">\n",
       "    </div>\n",
       "</div>\n",
       "\n",
       "<script>\n",
       "$(\"#twistied6f10879\").click(function(){\n",
       "    visible = $(\"#pm_containerd6f10879\").is(':visible');\n",
       "    $(\"#pm_containerd6f10879\").slideToggle(\"slow\");\n",
       "    $(this).html(visible?\"&#9656;\":\"&#9662;\")\n",
       "});\n",
       "</script>"
      ],
      "text/plain": [
       "<IPython.core.display.HTML object>"
      ]
     },
     "metadata": {},
     "output_type": "display_data"
    },
    {
     "name": "stdout",
     "output_type": "stream",
     "text": [
      "-----preparing data--------\n",
      "---------training decision tree-----------\n",
      "Training AUC: 0.735510848347608\n",
      "Test AUC: 0.7341349310081899\n",
      "Training Accuracy: 0.8697564921397338\n",
      "Test Accuracy: 0.8689867769935913\n",
      "Confusion Matrix: TP=4880, TN=198648, FP=27280, FN=3405\n",
      "Sensitivity (Recall): 0.5890162945081473\n",
      "Specificity: 0.8792535675082327\n",
      "---------training random forest-----------\n",
      "Training AUC: 0.7501883124656592\n",
      "Test AUC: 0.747204766363794\n",
      "Training Accuracy: 0.8386777743792942\n",
      "Test Accuracy: 0.8385700195975458\n",
      "Confusion Matrix: TP=5376, TN=191028, FP=34900, FN=2909\n",
      "Sensitivity (Recall): 0.6488835244417622\n",
      "Specificity: 0.8455260082858256\n",
      "---------training logistic regression-----------\n",
      "Training AUC: 0.7436294746530319\n",
      "Test AUC: 0.7431827999229923\n",
      "Training Accuracy: 0.803459774684092\n",
      "Test Accuracy: 0.802658264058784\n",
      "Confusion Matrix: TP=5627, TN=182366, FP=43562, FN=2658\n",
      "Sensitivity (Recall): 0.6791792395896198\n",
      "Specificity: 0.8071863602563648\n",
      "---------training gradient boosting tree-----------\n",
      "Training AUC: 0.6403031189273318\n",
      "Test AUC: 0.6348790230424026\n",
      "Training Accuracy: 0.9704580599300671\n",
      "Test Accuracy: 0.9697881842596269\n",
      "Confusion Matrix: TP=2274, TN=224863, FP=1065, FN=6011\n",
      "Sensitivity (Recall): 0.27447193723596863\n",
      "Specificity: 0.9952861088488368\n",
      "---------training multilayer perceptron-----------\n",
      "Training AUC: 0.6381504450808141\n",
      "Test AUC: 0.6310636145755292\n",
      "Training Accuracy: 0.9690726154101929\n",
      "Test Accuracy: 0.968259661077737\n",
      "Confusion Matrix: TP=2222, TN=224557, FP=1371, FN=6063\n",
      "Sensitivity (Recall): 0.26819553409776703\n",
      "Specificity: 0.9939316950532913\n",
      "---------training support vector machine-----------\n",
      "Training AUC: 0.735716183379176\n",
      "Test AUC: 0.7333526946819509\n",
      "Training Accuracy: 0.8522295532367714\n",
      "Test Accuracy: 0.851438647726642\n",
      "Confusion Matrix: TP=5023, TN=194395, FP=31533, FN=3262\n",
      "Sensitivity (Recall): 0.6062764031382015\n",
      "Specificity: 0.8604289862257002\n",
      "---completed------\n"
     ]
    }
   ],
   "source": [
    "train_baseline_models_sparkml(cohort_demo_processed,cohort_como_length, 200)"
   ]
  },
  {
   "cell_type": "code",
   "execution_count": 43,
   "metadata": {
    "id": "uqxLr2Zvzsc4"
   },
   "outputs": [
    {
     "data": {
      "text/html": [
       "<div id=\"pm_overallContainer53888893\" style=\"display:none\">\n",
       "    <table width=\"100%\" style=\"border:0px\">\n",
       "        <tr style=\"border:0px\">\n",
       "            <td width=\"20px\" style=\"border:0px\"><span id=\"twistie53888893\" style=\"color:blue;font-size:x-large;cursor:pointer\">&#9656;</span></td>\n",
       "            <td width=\"130px\" style=\"text-align:left;border:0px\"><span id=\"pm_overallJobName53888893\"></span>:</td>\n",
       "            <td width=\"calc(100% - 150px)\" style=\"border:0px\"><progress id=\"pm_overallProgress53888893\" max=\"100\" value=\"0\" style=\"width:100%\"></progress></td>\n",
       "        </tr>\n",
       "    </table>\n",
       "</div>\n",
       "<div id=\"pm_container53888893\" style=\"display:none\">\n",
       "    <ul class=\"nav nav-tabs\" id=\"progressMonitors53888893\">\n",
       "    </ul>\n",
       "    <div class=\"tab-content\" id=\"tabContent53888893\">\n",
       "    </div>\n",
       "</div>\n",
       "\n",
       "<script>\n",
       "$(\"#twistie53888893\").click(function(){\n",
       "    visible = $(\"#pm_container53888893\").is(':visible');\n",
       "    $(\"#pm_container53888893\").slideToggle(\"slow\");\n",
       "    $(this).html(visible?\"&#9656;\":\"&#9662;\")\n",
       "});\n",
       "</script>"
      ],
      "text/plain": [
       "<IPython.core.display.HTML object>"
      ]
     },
     "metadata": {},
     "output_type": "display_data"
    },
    {
     "name": "stdout",
     "output_type": "stream",
     "text": [
      "-----preparing data--------\n"
     ]
    },
    {
     "name": "stderr",
     "output_type": "stream",
     "text": [
      "Exception ignored in: <function JavaWrapper.__del__ at 0x7fa50d1dc290>\n",
      "Traceback (most recent call last):\n",
      "  File \"/usr/local/spark-3.4.4-bin-hadoop3/python/pyspark/ml/wrapper.py\", line 53, in __del__\n",
      "    if SparkContext._active_spark_context and self._java_obj is not None:\n",
      "AttributeError: 'MultilayerPerceptronClassifier' object has no attribute '_java_obj'\n"
     ]
    },
    {
     "name": "stdout",
     "output_type": "stream",
     "text": [
      "---------training decision tree-----------\n",
      "Training AUC: 0.7496369212130346\n",
      "Test AUC: 0.750183598126805\n",
      "Training Accuracy: 0.931933347714424\n",
      "Test Accuracy: 0.931873390068147\n",
      "Confusion Matrix: TP=4822, TN=223815, FP=12843, FN=3872\n",
      "Sensitivity (Recall): 0.5546353807223372\n",
      "Specificity: 0.945731815531273\n",
      "---------training random forest-----------\n",
      "Training AUC: 0.7744413535023054\n",
      "Test AUC: 0.7732597325860141\n",
      "Training Accuracy: 0.8797920575677777\n",
      "Test Accuracy: 0.8794588998663145\n",
      "Confusion Matrix: TP=5729, TN=210048, FP=26610, FN=2965\n",
      "Sensitivity (Recall): 0.6589602024384633\n",
      "Specificity: 0.8875592627335649\n",
      "---------training logistic regression-----------\n",
      "Training AUC: 0.7702854549583009\n",
      "Test AUC: 0.7698998247514047\n",
      "Training Accuracy: 0.8496690992417366\n",
      "Test Accuracy: 0.8498932146467116\n",
      "Confusion Matrix: TP=5945, TN=202578, FP=34080, FN=2749\n",
      "Sensitivity (Recall): 0.6838049229353578\n",
      "Specificity: 0.8559947265674518\n",
      "---------training gradient boosting tree-----------\n",
      "Training AUC: 0.6772079355175525\n",
      "Test AUC: 0.670181753251268\n",
      "Training Accuracy: 0.9730151042154234\n",
      "Test Accuracy: 0.9721502168313281\n",
      "Confusion Matrix: TP=3001, TN=235518, FP=1140, FN=5693\n",
      "Sensitivity (Recall): 0.3451805843110191\n",
      "Specificity: 0.9951829221915168\n",
      "---------training multilayer perceptron-----------\n",
      "Training AUC: 0.6756275747445751\n",
      "Test AUC: 0.6670474915650397\n",
      "Training Accuracy: 0.9715610538354776\n",
      "Test Accuracy: 0.9706992402751965\n",
      "Confusion Matrix: TP=2958, TN=235205, FP=1453, FN=5736\n",
      "Sensitivity (Recall): 0.34023464458247066\n",
      "Specificity: 0.9938603385476088\n",
      "---------training support vector machine-----------\n",
      "Training AUC: 0.7555516266813845\n",
      "Test AUC: 0.751620212132575\n",
      "Training Accuracy: 0.9162664381972624\n",
      "Test Accuracy: 0.9153012814242395\n",
      "Confusion Matrix: TP=5003, TN=219568, FP=17090, FN=3691\n",
      "Sensitivity (Recall): 0.5754543363239015\n",
      "Specificity: 0.9277860879412485\n",
      "---completed------\n"
     ]
    }
   ],
   "source": [
    "train_baseline_models_sparkml(cohort_demo_processed,cohort_como_length, 500)"
   ]
  },
  {
   "cell_type": "code",
   "execution_count": null,
   "metadata": {},
   "outputs": [],
   "source": []
  }
 ],
 "metadata": {
  "colab": {
   "machine_shape": "hm",
   "name": "",
   "provenance": [
    {
     "file_id": "1sVIdLQ79AlklSCycyfObuepqOfJqp8wd",
     "timestamp": 1731599694283
    }
   ],
   "version": ""
  },
  "kernelspec": {
   "display_name": "Python-with-Pixiedust_Spark-2.4",
   "language": "python",
   "name": "pythonwithpixiedustspark24"
  },
  "language_info": {
   "codemirror_mode": {
    "name": "ipython",
    "version": 3
   },
   "file_extension": ".py",
   "mimetype": "text/x-python",
   "name": "python",
   "nbconvert_exporter": "python",
   "pygments_lexer": "ipython3",
   "version": "3.7.6"
  }
 },
 "nbformat": 4,
 "nbformat_minor": 1
}
